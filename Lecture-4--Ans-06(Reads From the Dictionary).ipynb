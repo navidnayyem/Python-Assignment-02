{
 "cells": [
  {
   "cell_type": "markdown",
   "metadata": {},
   "source": [
    "# 6.\tDictionaries provide a convenient way to store structured data. Here is an example dictionary:\n",
    "\n",
    "# d=[{ ' name ' : ' Todd ' , ' phone ' : ' 555-1414 ' , ' email ' : ' todd@mail.net ' }, { ' name ' : ' Helga ' , ' phone ' : ' 555-1618 ' , ' email ' : ' helga@mail.net ' }, { ' name ' : ' Princess ' , ' phone ' : ' 555-3141 ' , ' email ' : '' }, { ' name ' : ' LJ ' , ' phone ' : ' 555-2718 ' , ' email ' : ' lj@mail.net ' }]\n",
    "# Write a program that reads through any dictionary like this and prints the following:\n",
    "\n",
    "# (a) All the users whose phone number ends in an 8\n"
   ]
  },
  {
   "cell_type": "code",
   "execution_count": 20,
   "metadata": {},
   "outputs": [
    {
     "name": "stdout",
     "output_type": "stream",
     "text": [
      "User :  Helga\n",
      "User :  LJ\n"
     ]
    }
   ],
   "source": [
    "# Dictionaries of name, phone number and email\n",
    "d = [{'name' : 'Todd' , 'phone' : '555-1414' , 'email' : 'todd@mail.net'}, \n",
    "     {'name' : 'Helga' , 'phone' : '555-1618' , 'email' : 'helga@mail.net'}, \n",
    "     {'name' : 'Princess' , 'phone' : '555-3141' , 'email' : ''}, \n",
    "     {'name' : 'LJ' , 'phone' : '555-2718' , 'email' : 'lj@mail.net'}]\n",
    "\n",
    "for key in d: # if key is in dictionary\n",
    "    for value in key: # if the value is in key\n",
    "        str = key.get('phone') # read and get all of the keys 'phone' from the dictionaries \n",
    "        if str[len(str)-1] == '8': # if all of the phone number that ends in an 8\n",
    "            print \"User : \",key.get('name') # print all of the users whose phone number ends in an 8\n",
    "            break # break statement "
   ]
  },
  {
   "cell_type": "markdown",
   "metadata": {},
   "source": [
    "# (b) All the users that don’t have an email address listed"
   ]
  },
  {
   "cell_type": "code",
   "execution_count": 18,
   "metadata": {},
   "outputs": [
    {
     "name": "stdout",
     "output_type": "stream",
     "text": [
      "User :  Princess\n"
     ]
    }
   ],
   "source": [
    "# Dictionaries of name, phone number and email\n",
    "d = [{ 'name' : 'Todd' , 'phone' : '555-1414' , 'email' : 'todd@mail.net' }, \n",
    "        { 'name' : 'Helga' , 'phone' : '555-1618' , 'email' : 'helga@mail.net' }, \n",
    "        { 'name' : 'Princess' , 'phone' : '555-3141' , 'email' : ' ' }, \n",
    "        { 'name' : 'LJ' , 'phone' : '555-2718' , 'email' : 'lj@mail.net' }]\n",
    "\n",
    "for key in d: # if key is in dictionary\n",
    "    for value in key: # if the value is in key\n",
    "        str = key.get('email') # read and get all of the keys 'email' from the dictionaries \n",
    "        if str[len(str)-1] == ' ': ## if all of the user that don’t have an email address\n",
    "            print \"User : \",key.get('name') # print all of the users that don’t have an email address listed\n",
    "            break # break statement "
   ]
  },
  {
   "cell_type": "code",
   "execution_count": null,
   "metadata": {},
   "outputs": [],
   "source": []
  }
 ],
 "metadata": {
  "kernelspec": {
   "display_name": "Python 2",
   "language": "python",
   "name": "python2"
  },
  "language_info": {
   "codemirror_mode": {
    "name": "ipython",
    "version": 2
   },
   "file_extension": ".py",
   "mimetype": "text/x-python",
   "name": "python",
   "nbconvert_exporter": "python",
   "pygments_lexer": "ipython2",
   "version": "2.7.15"
  }
 },
 "nbformat": 4,
 "nbformat_minor": 2
}
