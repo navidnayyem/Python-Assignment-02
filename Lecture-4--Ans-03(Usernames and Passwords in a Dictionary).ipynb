{
 "cells": [
  {
   "cell_type": "markdown",
   "metadata": {},
   "source": [
    "# 3.\tWrite a program that uses a dictionary that contains ten user names and passwords. The program should ask the user to enter their username and password. If the username is not in the dictionary, the program should indicate that the person is not a valid user of the system. If the username is in the dictionary, but the user does not enter the right password, the program should say that the password is invalid. If the password is correct, then the program should tell the user that they are now logged in to the system."
   ]
  },
  {
   "cell_type": "code",
   "execution_count": 3,
   "metadata": {},
   "outputs": [
    {
     "name": "stdout",
     "output_type": "stream",
     "text": [
      "Enter your Username: mahmudullah\n",
      "Enter your Password: 3111\n",
      "The Password is Invalid\n",
      "Enter your Username: mahmudullah\n",
      "Enter your Password: 3110\n",
      "You are now logged in to the system\n"
     ]
    }
   ],
   "source": [
    "usernames_and_passwords_in_a_dictionary = {'tamim' : 1234, 'imrul' :9999, 'mominul' :2580, 'sakib' :3690,'mushfiqur' :2550, \n",
    "                                          'mahmudullah' :3110, 'mehedi' :1990, 'mashrafe' :2000, 'rubel' :5700, 'mustafiz' :9700}\n",
    "while True:\n",
    "    username = raw_input(\"Enter your Username: \") # ask user to input the username\n",
    "    if username not in usernames_and_passwords_in_a_dictionary:\n",
    "        print \"The person is not a valid user of the system\"\n",
    "        break\n",
    "    password = input(\"Enter your Password: \") # ask user to input the password\n",
    "\n",
    "    # check username and password entered are correct\n",
    "    if username in usernames_and_passwords_in_a_dictionary and password == usernames_and_passwords_in_a_dictionary[username]:\n",
    "        print \"You are now logged in to the system\"\n",
    "        break\n",
    "    else:\n",
    "        print \"The Password is Invalid\""
   ]
  },
  {
   "cell_type": "code",
   "execution_count": null,
   "metadata": {},
   "outputs": [],
   "source": []
  }
 ],
 "metadata": {
  "kernelspec": {
   "display_name": "Python 2",
   "language": "python",
   "name": "python2"
  },
  "language_info": {
   "codemirror_mode": {
    "name": "ipython",
    "version": 2
   },
   "file_extension": ".py",
   "mimetype": "text/x-python",
   "name": "python",
   "nbconvert_exporter": "python",
   "pygments_lexer": "ipython2",
   "version": "2.7.15"
  }
 },
 "nbformat": 4,
 "nbformat_minor": 2
}
