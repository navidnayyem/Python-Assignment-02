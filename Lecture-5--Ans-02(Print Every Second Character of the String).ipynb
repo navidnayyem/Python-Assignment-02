{
 "cells": [
  {
   "cell_type": "markdown",
   "metadata": {},
   "source": [
    "# 2.\tModify the program above to print out every second character of the string."
   ]
  },
  {
   "cell_type": "code",
   "execution_count": 2,
   "metadata": {},
   "outputs": [
    {
     "name": "stdout",
     "output_type": "stream",
     "text": [
      "I\n",
      "L\n",
      "v\n",
      " \n",
      "y\n",
      "h\n",
      "n\n",
      "P\n",
      "o\n",
      "r\n",
      "m\n",
      "i\n",
      "g\n"
     ]
    }
   ],
   "source": [
    "c = 0 #initialize the value of c \n",
    "string = 'I Love Python Programming' # inputted string \n",
    "while c < len(string): # while loop will execute if condition is true \n",
    "    print string[c] # the string is displayed as a single character \n",
    "    c = c+2 # the value of c is incremented by 2 to display every second character of the string"
   ]
  },
  {
   "cell_type": "code",
   "execution_count": null,
   "metadata": {},
   "outputs": [],
   "source": []
  }
 ],
 "metadata": {
  "kernelspec": {
   "display_name": "Python 2",
   "language": "python",
   "name": "python2"
  },
  "language_info": {
   "codemirror_mode": {
    "name": "ipython",
    "version": 2
   },
   "file_extension": ".py",
   "mimetype": "text/x-python",
   "name": "python",
   "nbconvert_exporter": "python",
   "pygments_lexer": "ipython2",
   "version": "2.7.15"
  }
 },
 "nbformat": 4,
 "nbformat_minor": 2
}
