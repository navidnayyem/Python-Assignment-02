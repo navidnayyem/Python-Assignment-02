{
 "cells": [
  {
   "cell_type": "markdown",
   "metadata": {},
   "source": [
    "# 7. The keys in a dictionary are guaranteed to be unique, but the values are not. Write a function called count_values that takes a single dictionary as an argument and returns the number of dis-tinct values it contains. Given the input {’red’:1, ’green’:1, ’blue’:2} , for example, it would return 2."
   ]
  },
  {
   "cell_type": "code",
   "execution_count": 13,
   "metadata": {},
   "outputs": [
    {
     "name": "stdout",
     "output_type": "stream",
     "text": [
      "Unique Values in Dictionary: 2\n"
     ]
    }
   ],
   "source": [
    "def count_values(dict): # Here count_values is the function name with single argument dict\n",
    "  values_count = {} # empty dictionary\n",
    "  for key in dict: # if key is in the dictionary\n",
    "    values_count[dict[key]] = dict[key]\n",
    "  return len(values_count) # return the length of values_count\n",
    "\n",
    "dict = {'red':1, 'green':1, 'blue':2} # given input\n",
    "print \"Unique Values in Dictionary:\",count_values(dict) \n",
    "# prints the dis-tinct values in Dictionary as output will be 2 because 1 and 2 are unique values which means 1 for red and\n",
    "#1 for green means only one 1 as a unique value and 2 as a unique value (Value = 1+1 =2)"
   ]
  },
  {
   "cell_type": "code",
   "execution_count": null,
   "metadata": {},
   "outputs": [],
   "source": []
  }
 ],
 "metadata": {
  "kernelspec": {
   "display_name": "Python 2",
   "language": "python",
   "name": "python2"
  },
  "language_info": {
   "codemirror_mode": {
    "name": "ipython",
    "version": 2
   },
   "file_extension": ".py",
   "mimetype": "text/x-python",
   "name": "python",
   "nbconvert_exporter": "python",
   "pygments_lexer": "ipython2",
   "version": "2.7.15"
  }
 },
 "nbformat": 4,
 "nbformat_minor": 2
}
