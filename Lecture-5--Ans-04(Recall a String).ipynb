{
 "cells": [
  {
   "cell_type": "markdown",
   "metadata": {},
   "source": [
    "# 4.\tRecall that, given a string s , s.index( ' x ' ) returns the index of the first x in s and an error if there is no x.\n",
    "\n",
    "# (a) Write a program that asks the user for a string and a letter. Using a while loop, the program should print the index of the first occurrence of that letter and a message if the string does not contain the letter."
   ]
  },
  {
   "cell_type": "code",
   "execution_count": null,
   "metadata": {},
   "outputs": [
    {
     "name": "stdout",
     "output_type": "stream",
     "text": [
      "Enter a String: Hello\n",
      "Enter a Letter: e\n",
      "\n",
      "First occurrence of e is found at index: 1 \n",
      "\n",
      "Enter a String: I love Programming\n",
      "Enter a Letter: m\n",
      "\n",
      "First occurrence of m is found at index: 13 \n",
      "\n",
      "Enter a String: Programming is Fun\n",
      "Enter a Letter: b\n",
      "\n",
      "The String does not contain the Letter\n",
      "\n"
     ]
    }
   ],
   "source": [
    "index = 0 # initialize the value of i which is 0\n",
    "while index>=0: # while loop will execute if condition is true \n",
    "    s = raw_input(\"Enter a String: \") # ask user to input a string\n",
    "    letter = raw_input(\"Enter a Letter: \") # ask user to input a letter \n",
    "    if letter in s: # if letter is in the string 's' \n",
    "        find = s.index(letter) # find out the first index of the letter that is matched\n",
    "        print \"\\nFirst occurrence of\",letter,\"is found at index:\",find,\"\\n\" # print statement\n",
    "    else: # if letter is not in the string 's' \n",
    "        print \"\\nThe String does not contain the Letter\\n\" # print statement\n",
    "    index = index + 1 # the value of index is incremented by 1 "
   ]
  },
  {
   "cell_type": "markdown",
   "metadata": {},
   "source": [
    "# (b) Write the above program using a for/break loop instead of a while loop."
   ]
  },
  {
   "cell_type": "code",
   "execution_count": 3,
   "metadata": {},
   "outputs": [
    {
     "name": "stdout",
     "output_type": "stream",
     "text": [
      "Enter a String: I like Python Programming.\n",
      "Enter a Letter: g\n",
      "\n",
      "First occurrence of g is found at index: 17 \n",
      "\n"
     ]
    }
   ],
   "source": [
    "s = raw_input(\"Enter a String: \") # ask user to input a string\n",
    "letter = raw_input(\"Enter a Letter: \") # ask user to input a letter \n",
    "for i in range(1): # for loop will executed one time as range is equal to 1\n",
    "    if letter in s: # if letter is in the string 's' \n",
    "        find = s.index(letter) # find out the first index of the letter that is matched\n",
    "        print \"\\nFirst occurrence of\",letter,\"is found at index:\",find,\"\\n\" # print statement\n",
    "        break # break statement means it will get out of the loop\n",
    "    else: # if letter is not in the string 's' \n",
    "        print \"\\nThe String does not contain the Letter\\n\" # print statement"
   ]
  },
  {
   "cell_type": "code",
   "execution_count": null,
   "metadata": {},
   "outputs": [],
   "source": []
  }
 ],
 "metadata": {
  "kernelspec": {
   "display_name": "Python 2",
   "language": "python",
   "name": "python2"
  },
  "language_info": {
   "codemirror_mode": {
    "name": "ipython",
    "version": 2
   },
   "file_extension": ".py",
   "mimetype": "text/x-python",
   "name": "python",
   "nbconvert_exporter": "python",
   "pygments_lexer": "ipython2",
   "version": "2.7.15"
  }
 },
 "nbformat": 4,
 "nbformat_minor": 2
}
