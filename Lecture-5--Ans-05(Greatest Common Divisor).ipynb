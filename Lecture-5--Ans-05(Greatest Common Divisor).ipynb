{
 "cells": [
  {
   "cell_type": "markdown",
   "metadata": {},
   "source": [
    "# 5.The GCD (greatest common divisor) of two numbers is the largest number that both are di-visible by. For instance, gcd (18, 42) is 6 because the largest number that both 18 and 42 are divisible by is 6. Write a program that asks the user for two numbers and computes their gcd. Shown below is a way to compute the GCD, called Euclid’s Algorithm.\n",
    "\n",
    "# • First compute the remainder of dividing the larger number by the smaller number\n",
    "\n",
    "# • Next, replace the larger number with the smaller number and the smaller number with the remainder.\n",
    "\n",
    "# • Repeat this process until the smaller number is 0. The GCD is the last value of the larger number."
   ]
  },
  {
   "cell_type": "code",
   "execution_count": 6,
   "metadata": {},
   "outputs": [
    {
     "name": "stdout",
     "output_type": "stream",
     "text": [
      "Enter Number1: 18\n",
      "Enter Number2: 42\n",
      "\n",
      "Greatest Common Divisor =  6\n"
     ]
    }
   ],
   "source": [
    "number1 = input(\"Enter Number1: \") # ask user to input first number\n",
    "number2 = input(\"Enter Number2: \") # ask user to input second number\n",
    "\n",
    "remainder = number1 % number2 # remainder of dividing the larger number by the smaller number\n",
    "\n",
    "while(remainder != 0): # while loop will executed when the remainder is not equal to 0\n",
    "    number1 = number2 # replacing the larger number with the smaller number\n",
    "    number2 = remainder # replacing the smaller number with the remainder\n",
    "    d = int(number1/number2) # after replacing dividing both number1 and number2 and store the integer value\n",
    "    remainder = number1 - (number2 * d) # finds out the value of remainder\n",
    "\n",
    "print \"\\nGreatest Common Divisor = \",number2 # prints the Greatest Common Divisor of Two Numbers"
   ]
  },
  {
   "cell_type": "code",
   "execution_count": null,
   "metadata": {},
   "outputs": [],
   "source": []
  }
 ],
 "metadata": {
  "kernelspec": {
   "display_name": "Python 2",
   "language": "python",
   "name": "python2"
  },
  "language_info": {
   "codemirror_mode": {
    "name": "ipython",
    "version": 2
   },
   "file_extension": ".py",
   "mimetype": "text/x-python",
   "name": "python",
   "nbconvert_exporter": "python",
   "pygments_lexer": "ipython2",
   "version": "2.7.15"
  }
 },
 "nbformat": 4,
 "nbformat_minor": 2
}
