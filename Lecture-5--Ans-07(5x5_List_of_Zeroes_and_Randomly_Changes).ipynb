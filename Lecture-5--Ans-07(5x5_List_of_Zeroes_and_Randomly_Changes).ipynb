{
 "cells": [
  {
   "cell_type": "markdown",
   "metadata": {},
   "source": [
    "# 7.\tWrite a program that starts with an 5 × 5 list of zeroes and randomly changes exactly ten of those zeroes to ones."
   ]
  },
  {
   "cell_type": "code",
   "execution_count": 40,
   "metadata": {},
   "outputs": [
    {
     "name": "stdout",
     "output_type": "stream",
     "text": [
      "0 0 0 0 1 \n",
      "0 0 0 1 0 \n",
      "0 0 1 0 1 \n",
      "0 1 0 1 1 \n",
      "1 0 1 1 0 \n"
     ]
    }
   ],
   "source": [
    "import random # import library to generate random number\n",
    "\n",
    "List = [] # Empty List\n",
    "randomPosition = [] # Empty List\n",
    "\n",
    "for i in range(25):\n",
    "    List.append(0) # Use append() to add elements\n",
    "\n",
    "for i in range(10):\n",
    "    x = random.randrange(1, 25)\n",
    "    while randomPosition.count(x) != 0:\n",
    "        x = random.randrange(1, 25)\n",
    "    randomPosition.append(x) # Use append() to add elements\n",
    "    List[x] = 1\n",
    "    \n",
    "k = 0\n",
    "for i in range(5):\n",
    "    for j in range(5):\n",
    "        if i+j == randomPosition[k]:\n",
    "            print(List[k]),\n",
    "            k = k + 1\n",
    "            continue\n",
    "        print(List[i+j]),\n",
    "    print (\"\\n\"),"
   ]
  },
  {
   "cell_type": "code",
   "execution_count": null,
   "metadata": {},
   "outputs": [],
   "source": []
  }
 ],
 "metadata": {
  "kernelspec": {
   "display_name": "Python 2",
   "language": "python",
   "name": "python2"
  },
  "language_info": {
   "codemirror_mode": {
    "name": "ipython",
    "version": 2
   },
   "file_extension": ".py",
   "mimetype": "text/x-python",
   "name": "python",
   "nbconvert_exporter": "python",
   "pygments_lexer": "ipython2",
   "version": "2.7.15"
  }
 },
 "nbformat": 4,
 "nbformat_minor": 2
}
