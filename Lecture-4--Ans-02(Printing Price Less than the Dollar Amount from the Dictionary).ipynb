{
 "cells": [
  {
   "cell_type": "markdown",
   "metadata": {},
   "source": [
    "# 2.\tUsing the dictionary created in the previous problem, allow the user to enter a dollar amount and print out all the products whose price is less than that amount."
   ]
  },
  {
   "cell_type": "code",
   "execution_count": 8,
   "metadata": {},
   "outputs": [
    {
     "name": "stdout",
     "output_type": "stream",
     "text": [
      "Enter a Dollar Amount:$100\n",
      "\n",
      "The Products whose price is less than Amount $ 100 \n",
      "\n",
      "Product: Router\n",
      "Product: Printer\n"
     ]
    }
   ],
   "source": [
    "#Using Dictionary that is created in the previous problem No.1 of Lecture-4\n",
    "#Enter the Product Name: Television\n",
    "#Enter the Price: 200\n",
    "#Do you want to Insert Again in the Dictionary(y/n): y\n",
    "#Enter the Product Name: Monitor\n",
    "#Enter the Price: 100\n",
    "#Do you want to Insert Again in the Dictionary(y/n): y\n",
    "#Enter the Product Name: Printer\n",
    "#Enter the Price: 50\n",
    "#Do you want to Insert Again in the Dictionary(y/n): y\n",
    "#Enter the Product Name: Smartphone\n",
    "#Enter the Price: 150\n",
    "#Do you want to Insert Again in the Dictionary(y/n): y\n",
    "#Enter the Product Name: Router\n",
    "#Enter the Price: 30\n",
    "#Do you want to Insert Again in the Dictionary(y/n): n\n",
    "\n",
    "dictionary = {'Television':200,'Monitor':100,'Printer':50,'Smartphone':150,'Router':30}\n",
    "      \n",
    "amount = input(\"Enter a Dollar Amount:$\") # ask user to input the dollar amount\n",
    "print \"\\nThe Products whose price is less than Amount $\",amount,\"\\n\"\n",
    "for keys in dictionary: # if key is in the dictionary\n",
    "    if dictionary[keys] < amount: # if the price is less than the inputted dollar amount\n",
    "        print \"Product:\",keys # print the products name whose price is less than the inputted dollar amount"
   ]
  },
  {
   "cell_type": "code",
   "execution_count": null,
   "metadata": {},
   "outputs": [],
   "source": []
  }
 ],
 "metadata": {
  "kernelspec": {
   "display_name": "Python 2",
   "language": "python",
   "name": "python2"
  },
  "language_info": {
   "codemirror_mode": {
    "name": "ipython",
    "version": 2
   },
   "file_extension": ".py",
   "mimetype": "text/x-python",
   "name": "python",
   "nbconvert_exporter": "python",
   "pygments_lexer": "ipython2",
   "version": "2.7.15"
  }
 },
 "nbformat": 4,
 "nbformat_minor": 2
}
