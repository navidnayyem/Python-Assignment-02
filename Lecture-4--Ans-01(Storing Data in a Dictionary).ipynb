{
 "cells": [
  {
   "cell_type": "markdown",
   "metadata": {},
   "source": [
    "# 1.\tWrite a program that repeatedly asks the user to enter product names and prices. Store all of these in a dictionary whose keys are the product names and whose values are the prices. When the user is done entering products and prices, allow them to repeatedly enter a product name and print the corresponding price or a message if the product is not in the dictionary."
   ]
  },
  {
   "cell_type": "code",
   "execution_count": null,
   "metadata": {},
   "outputs": [
    {
     "name": "stdout",
     "output_type": "stream",
     "text": [
      "Enter the Product Name: Television\n",
      "Enter the Price: 200\n",
      "Do you want to Insert Again in the Dictionary(y/n): y\n",
      "Enter the Product Name: Monitor\n",
      "Enter the Price: 100\n",
      "Do you want to Insert Again in the Dictionary(y/n): y\n",
      "Enter the Product Name: Printer\n",
      "Enter the Price: 50\n",
      "Do you want to Insert Again in the Dictionary(y/n): y\n",
      "Enter the Product Name: Smartphone\n",
      "Enter the Price: 150\n",
      "Do you want to Insert Again in the Dictionary(y/n): y\n",
      "Enter the Product Name: Router\n",
      "Enter the Price: 30\n",
      "Do you want to Insert Again in the Dictionary(y/n): n\n",
      "\n",
      "All of the Keys and Values are Inserted in the Dictionary Successfully\n",
      "\n",
      "Enter the Product Name: Printer\n",
      "The Price of Printer is 50\n",
      "Enter the Product Name: Monitor\n",
      "The Price of Monitor is 100\n"
     ]
    }
   ],
   "source": [
    "dictionary = {} # empty dictionary\n",
    "\n",
    "while True: # while loop will execute if condition is true \n",
    "    keys = raw_input(\"Enter the Product Name: \") # ask user to input the product name\n",
    "    value = input(\"Enter the Price: \") # ask user to input the price of the product\n",
    "    dictionary[keys] = value # storing keys and values in the dictionary\n",
    "    choice = raw_input(\"Do you want to Insert Again in the Dictionary(y/n): \") # want to insert keys and values in the dictionary or not\n",
    "    if choice == \"n\": # if choice is no\n",
    "        print(\"\\nAll of the Keys and Values are Inserted in the Dictionary Successfully\\n\") # print statement\n",
    "        break # break statement and get out of the while loop\n",
    "    else: # else statement \n",
    "        choice == \"y\" # continue inserting keys and values in the dictionary\n",
    "        \n",
    "while True: # while loop will execute if condition is true \n",
    "    keys = raw_input(\"Enter the Product Name: \") # ask user to input the product name to print the corresponding price\n",
    "    if keys in dictionary: # if key is in the dictionary \n",
    "        print \"The Price of\",keys,\"is\",dictionary[keys] # print the corresponding price of the inputted product name \n",
    "    else: # when inputted product name is not in keys \n",
    "        print \"The Product\",keys,\"is not in the Dictionary\" # print statement"
   ]
  },
  {
   "cell_type": "code",
   "execution_count": null,
   "metadata": {},
   "outputs": [],
   "source": []
  }
 ],
 "metadata": {
  "kernelspec": {
   "display_name": "Python 2",
   "language": "python",
   "name": "python2"
  },
  "language_info": {
   "codemirror_mode": {
    "name": "ipython",
    "version": 2
   },
   "file_extension": ".py",
   "mimetype": "text/x-python",
   "name": "python",
   "nbconvert_exporter": "python",
   "pygments_lexer": "ipython2",
   "version": "2.7.15"
  }
 },
 "nbformat": 4,
 "nbformat_minor": 2
}
