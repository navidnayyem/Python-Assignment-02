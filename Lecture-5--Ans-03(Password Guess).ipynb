{
 "cells": [
  {
   "cell_type": "markdown",
   "metadata": {},
   "source": [
    "# 3.\tWrite a program that asks the user to enter a password. If the user enters the right password, the program should tell them they are logged in to the system. Otherwise, the program should ask them to reenter the password. The user should only get five tries to enter the password, after which point the program should tell them that they are kicked off of the system."
   ]
  },
  {
   "cell_type": "code",
   "execution_count": 1,
   "metadata": {},
   "outputs": [
    {
     "name": "stdout",
     "output_type": "stream",
     "text": [
      "Enter the Password: 7564\n",
      "Wrong Password.Please Reenter the Password\n",
      "\n",
      "Enter the Password: 7569\n",
      "Wrong Password.Please Reenter the Password\n",
      "\n",
      "Enter the Password: 9999\n",
      "Wrong Password.Please Reenter the Password\n",
      "\n",
      "Enter the Password: 1234\n",
      "Wrong Password.Please Reenter the Password\n",
      "\n",
      "Enter the Password: 7530\n",
      "You are Logged In to the System\n"
     ]
    }
   ],
   "source": [
    "i = 0 # initialize the value of i which is 0\n",
    "right_password = 7530 # inputted right password\n",
    "while i < 5: # while loop will execute if condition is true \n",
    "    password = input(\"Enter the Password: \") # ask user to input the password\n",
    "    if password == right_password: # when inputted password is the right password\n",
    "        print(\"You are Logged In to the System\") # print statement of logged in successfully\n",
    "        break # break statement\n",
    "    else: # else statement\n",
    "        print(\"Wrong Password.Please Reenter the Password\\n\") # print statement of wrong password\n",
    "    i = i+1 # the value of i is incremented by 1 \n",
    "    if i == 5: # when the value of i is 5\n",
    "        print(\"\\nYou are Kicked Off of the System\")"
   ]
  },
  {
   "cell_type": "code",
   "execution_count": null,
   "metadata": {},
   "outputs": [],
   "source": []
  }
 ],
 "metadata": {
  "kernelspec": {
   "display_name": "Python 2",
   "language": "python",
   "name": "python2"
  },
  "language_info": {
   "codemirror_mode": {
    "name": "ipython",
    "version": 2
   },
   "file_extension": ".py",
   "mimetype": "text/x-python",
   "name": "python",
   "nbconvert_exporter": "python",
   "pygments_lexer": "ipython2",
   "version": "2.7.15"
  }
 },
 "nbformat": 4,
 "nbformat_minor": 2
}
